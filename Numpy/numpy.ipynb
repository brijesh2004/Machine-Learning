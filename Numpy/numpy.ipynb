{
 "cells": [
  {
   "cell_type": "markdown",
   "id": "9666858d",
   "metadata": {},
   "source": [
    "<h1>Numpy</h1>"
   ]
  },
  {
   "cell_type": "code",
   "execution_count": 2,
   "id": "a2b61606",
   "metadata": {},
   "outputs": [],
   "source": [
    "import numpy as np"
   ]
  },
  {
   "cell_type": "code",
   "execution_count": null,
   "id": "1beed115",
   "metadata": {},
   "outputs": [],
   "source": []
  },
  {
   "cell_type": "code",
   "execution_count": 4,
   "id": "2e6e01b8",
   "metadata": {},
   "outputs": [
    {
     "name": "stdout",
     "output_type": "stream",
     "text": [
      "[1 2 3 4]\n",
      "<class 'numpy.ndarray'>\n"
     ]
    }
   ],
   "source": [
    "x = np.array([1,2,3,4])\n",
    "print(x)\n",
    "print(type(x))"
   ]
  },
  {
   "cell_type": "code",
   "execution_count": 6,
   "id": "7968fc20",
   "metadata": {},
   "outputs": [
    {
     "name": "stdout",
     "output_type": "stream",
     "text": [
      "[1, 2, 3, 4]\n",
      "<class 'list'>\n"
     ]
    }
   ],
   "source": [
    "y = [1,2,3,4]\n",
    "print(y )\n",
    "print(type(y))"
   ]
  },
  {
   "cell_type": "markdown",
   "id": "1ff12bfd",
   "metadata": {},
   "source": [
    "<h2>Time difference between the numpy and List </h2>"
   ]
  },
  {
   "cell_type": "code",
   "execution_count": 12,
   "id": "b30c36e8",
   "metadata": {},
   "outputs": [
    {
     "name": "stdout",
     "output_type": "stream",
     "text": [
      "3.16 µs ± 80 ns per loop (mean ± std. dev. of 7 runs, 100000 loops each)\n"
     ]
    }
   ],
   "source": [
    "%timeit [j**4 for j in range(1,9)]"
   ]
  },
  {
   "cell_type": "code",
   "execution_count": 13,
   "id": "493f7cc7",
   "metadata": {},
   "outputs": [
    {
     "name": "stdout",
     "output_type": "stream",
     "text": [
      "1.71 µs ± 249 ns per loop (mean ± std. dev. of 7 runs, 1000000 loops each)\n"
     ]
    }
   ],
   "source": [
    "%timeit np.arange(1,9)**4"
   ]
  },
  {
   "cell_type": "markdown",
   "id": "2d7ac001",
   "metadata": {},
   "source": [
    "# Array "
   ]
  },
  {
   "cell_type": "code",
   "execution_count": 7,
   "id": "409ae186",
   "metadata": {},
   "outputs": [
    {
     "name": "stdout",
     "output_type": "stream",
     "text": [
      "[1 2 3 4 5]\n",
      "1\n"
     ]
    }
   ],
   "source": [
    "import numpy as np\n",
    "x=[1,2,3,4,5]\n",
    "y=np.array(x)\n",
    "print(y)\n",
    "print(y.ndim)"
   ]
  },
  {
   "cell_type": "code",
   "execution_count": 6,
   "id": "476de07a",
   "metadata": {},
   "outputs": [
    {
     "name": "stdout",
     "output_type": "stream",
     "text": [
      "Enter : 11\n",
      "Enter : 12\n",
      "Enter : 13\n",
      "Enter : 14\n",
      "[11 12 13 14]\n"
     ]
    }
   ],
   "source": [
    "l = []\n",
    "for i in range(1,5):\n",
    "    int_1 = int(input(\"Enter : \"))\n",
    "    l.append(int_1)\n",
    "print(np.array(l))"
   ]
  },
  {
   "cell_type": "code",
   "execution_count": 8,
   "id": "79e8c04d",
   "metadata": {},
   "outputs": [
    {
     "name": "stdout",
     "output_type": "stream",
     "text": [
      "[[1 2 3 4]\n",
      " [2 4 5 6]]\n",
      "2\n"
     ]
    }
   ],
   "source": [
    "ar2 = np.array([[1,2,3,4],[2,4,5,6]])\n",
    "print(ar2)\n",
    "print(ar2.ndim)"
   ]
  },
  {
   "cell_type": "code",
   "execution_count": 10,
   "id": "32d940fb",
   "metadata": {},
   "outputs": [
    {
     "name": "stdout",
     "output_type": "stream",
     "text": [
      "[[[1 2 3 4]\n",
      "  [2 3 4 5]\n",
      "  [3 4 5 6]]]\n",
      "3\n"
     ]
    }
   ],
   "source": [
    "ar3 = np.array([[[1,2,3,4],[2,3,4,5],[3,4,5,6]]])\n",
    "print(ar3)\n",
    "print(ar3.ndim)"
   ]
  },
  {
   "cell_type": "code",
   "execution_count": 12,
   "id": "d1a38d17",
   "metadata": {},
   "outputs": [
    {
     "name": "stdout",
     "output_type": "stream",
     "text": [
      "[[[[[[[[[[1 2 3 4]]]]]]]]]]\n",
      "10\n"
     ]
    }
   ],
   "source": [
    "arn = np.array([1,2,3,4] , ndmin=10)\n",
    "print(arn)\n",
    "print(arn.ndim)"
   ]
  },
  {
   "cell_type": "markdown",
   "id": "b24d577d",
   "metadata": {},
   "source": [
    "# Zeros"
   ]
  },
  {
   "cell_type": "code",
   "execution_count": 16,
   "id": "78ef9812",
   "metadata": {},
   "outputs": [
    {
     "name": "stdout",
     "output_type": "stream",
     "text": [
      "[0. 0. 0. 0.]\n",
      " \n",
      "[[0. 0. 0. 0.]\n",
      " [0. 0. 0. 0.]\n",
      " [0. 0. 0. 0.]]\n"
     ]
    }
   ],
   "source": [
    "ar_zero = np.zeros(4)\n",
    "ar_zero1 = np.zeros((3,4))\n",
    "print(ar_zero)\n",
    "print(\" \")\n",
    "print(ar_zero1)"
   ]
  },
  {
   "cell_type": "markdown",
   "id": "3521cce0",
   "metadata": {},
   "source": [
    "# Ones"
   ]
  },
  {
   "cell_type": "code",
   "execution_count": 21,
   "id": "47abdeb8",
   "metadata": {},
   "outputs": [
    {
     "name": "stdout",
     "output_type": "stream",
     "text": [
      "[1. 1. 1. 1.]\n",
      "\n",
      "[[1. 1. 1. 1. 1.]\n",
      " [1. 1. 1. 1. 1.]\n",
      " [1. 1. 1. 1. 1.]]\n"
     ]
    }
   ],
   "source": [
    "ar_one = np.ones(4)\n",
    "ar_one1 = np.ones((3,5))\n",
    "print(ar_one)\n",
    "print(\"\")\n",
    "print(ar_one1)"
   ]
  },
  {
   "cell_type": "markdown",
   "id": "f95c2a37",
   "metadata": {},
   "source": [
    "# Empty"
   ]
  },
  {
   "cell_type": "code",
   "execution_count": 22,
   "id": "41653a19",
   "metadata": {},
   "outputs": [
    {
     "name": "stdout",
     "output_type": "stream",
     "text": [
      "[1. 1. 1. 1.]\n"
     ]
    }
   ],
   "source": [
    "ar_em = np.empty(4)\n",
    "# it takes the storage of the previous data that is store \n",
    "print(ar_em)"
   ]
  },
  {
   "cell_type": "markdown",
   "id": "e7d3ce47",
   "metadata": {},
   "source": [
    "# Range"
   ]
  },
  {
   "cell_type": "code",
   "execution_count": 23,
   "id": "a1959002",
   "metadata": {},
   "outputs": [
    {
     "name": "stdout",
     "output_type": "stream",
     "text": [
      "[0 1 2 3]\n"
     ]
    }
   ],
   "source": [
    "ar_rn = np.arange(4)\n",
    "print(ar_rn)"
   ]
  },
  {
   "cell_type": "markdown",
   "id": "17ad63ff",
   "metadata": {},
   "source": [
    "# Diagonal"
   ]
  },
  {
   "cell_type": "code",
   "execution_count": 24,
   "id": "485fb2e0",
   "metadata": {},
   "outputs": [
    {
     "name": "stdout",
     "output_type": "stream",
     "text": [
      "[[1. 0. 0.]\n",
      " [0. 1. 0.]\n",
      " [0. 0. 1.]]\n"
     ]
    }
   ],
   "source": [
    "ar_dia = np.eye(3) # it create a 3x3 matrix\n",
    "print(ar_dia)"
   ]
  },
  {
   "cell_type": "code",
   "execution_count": 26,
   "id": "a6fe464d",
   "metadata": {},
   "outputs": [
    {
     "name": "stdout",
     "output_type": "stream",
     "text": [
      "[[1. 0. 0. 0. 0.]\n",
      " [0. 1. 0. 0. 0.]\n",
      " [0. 0. 1. 0. 0.]]\n"
     ]
    }
   ],
   "source": [
    "ar_dia = np.eye(3,5) # it create a 3x3 matrix\n",
    "print(ar_dia)"
   ]
  },
  {
   "cell_type": "markdown",
   "id": "443f21e2",
   "metadata": {},
   "source": [
    "# linspace"
   ]
  },
  {
   "cell_type": "code",
   "execution_count": 28,
   "id": "02b278d9",
   "metadata": {},
   "outputs": [
    {
     "name": "stdout",
     "output_type": "stream",
     "text": [
      "[ 0.  5. 10. 15. 20.]\n"
     ]
    }
   ],
   "source": [
    "ar_lin = np.linspace(0 , 20, num = 5)\n",
    "print(ar_lin)"
   ]
  },
  {
   "cell_type": "markdown",
   "id": "89edfaa1",
   "metadata": {},
   "source": [
    "# Random "
   ]
  },
  {
   "cell_type": "code",
   "execution_count": 2,
   "id": "6f23e156",
   "metadata": {},
   "outputs": [],
   "source": [
    "import numpy as np"
   ]
  },
  {
   "cell_type": "markdown",
   "id": "6f250cfc",
   "metadata": {},
   "source": [
    "## Rand()"
   ]
  },
  {
   "cell_type": "code",
   "execution_count": 5,
   "id": "fe61db68",
   "metadata": {},
   "outputs": [
    {
     "name": "stdout",
     "output_type": "stream",
     "text": [
      "[0.05735889 0.71134008 0.53567815 0.52026641]\n"
     ]
    }
   ],
   "source": [
    "var  = np.random.rand(4)\n",
    "print(var)"
   ]
  },
  {
   "cell_type": "code",
   "execution_count": 6,
   "id": "2a5d993d",
   "metadata": {},
   "outputs": [
    {
     "name": "stdout",
     "output_type": "stream",
     "text": [
      "[[0.747796   0.72400388 0.92248695 0.37846907 0.73944986]\n",
      " [0.26691164 0.48126077 0.10421164 0.85347876 0.24981263]]\n"
     ]
    }
   ],
   "source": [
    "var1   = np.random.rand(2,5)\n",
    "print(var1)"
   ]
  },
  {
   "cell_type": "markdown",
   "id": "9400b7af",
   "metadata": {},
   "source": [
    "## randn()"
   ]
  },
  {
   "cell_type": "code",
   "execution_count": 8,
   "id": "cb2ee8a5",
   "metadata": {},
   "outputs": [
    {
     "name": "stdout",
     "output_type": "stream",
     "text": [
      "[-0.55552657 -1.34645546 -0.11054983 -0.33781123 -0.35192658]\n"
     ]
    }
   ],
   "source": [
    "var2  = np.random.randn(5)\n",
    "print(var2)"
   ]
  },
  {
   "cell_type": "markdown",
   "id": "f7c28992",
   "metadata": {},
   "source": [
    "## randf()"
   ]
  },
  {
   "cell_type": "code",
   "execution_count": 11,
   "id": "344d0dc0",
   "metadata": {},
   "outputs": [
    {
     "name": "stdout",
     "output_type": "stream",
     "text": [
      "[0.69739747 0.76844085 0.18968068 0.23764349]\n"
     ]
    }
   ],
   "source": [
    "var3 = np.random.ranf(4)\n",
    "print(var3)"
   ]
  },
  {
   "cell_type": "markdown",
   "id": "d8a35dd3",
   "metadata": {},
   "source": [
    "## Randint()"
   ]
  },
  {
   "cell_type": "code",
   "execution_count": 12,
   "id": "07bc7b6c",
   "metadata": {},
   "outputs": [
    {
     "name": "stdout",
     "output_type": "stream",
     "text": [
      "[17 14 10  9 19 15]\n"
     ]
    }
   ],
   "source": [
    "var4 = np.random.randint(5,20,6)\n",
    "print(var4) \n"
   ]
  },
  {
   "cell_type": "code",
   "execution_count": 14,
   "id": "d78a971c",
   "metadata": {},
   "outputs": [
    {
     "name": "stdout",
     "output_type": "stream",
     "text": [
      "[5 5 5 5 5]\n"
     ]
    }
   ],
   "source": [
    "var5 = np.random.randint(5,6,5)\n",
    "print(var5)"
   ]
  },
  {
   "cell_type": "markdown",
   "id": "02b07ea5",
   "metadata": {},
   "source": [
    "# Data Type in Numpy"
   ]
  },
  {
   "cell_type": "code",
   "execution_count": 16,
   "id": "3b2473a5",
   "metadata": {},
   "outputs": [
    {
     "name": "stdout",
     "output_type": "stream",
     "text": [
      "Data Types :  int32\n"
     ]
    }
   ],
   "source": [
    "var6  = np.array([1,2,3,4,5,6,7,8,9])\n",
    "print(\"Data Types : \" , var6.dtype)"
   ]
  },
  {
   "cell_type": "code",
   "execution_count": 17,
   "id": "bd7188db",
   "metadata": {},
   "outputs": [
    {
     "name": "stdout",
     "output_type": "stream",
     "text": [
      "Data Types :  float64\n"
     ]
    }
   ],
   "source": [
    "var7 = np.array([0.2,4.5,6.4,6.5,6.4])\n",
    "print(\"Data Types : \" , var7.dtype)"
   ]
  },
  {
   "cell_type": "code",
   "execution_count": 20,
   "id": "dc50ede8",
   "metadata": {},
   "outputs": [
    {
     "name": "stdout",
     "output_type": "stream",
     "text": [
      "Data Types :  <U7\n"
     ]
    }
   ],
   "source": [
    "var8 = np.array([\"Brijesh\" , \"Singh\" ,\"Sahasi\"])\n",
    "print(\"Data Types : \" , var8.dtype)"
   ]
  },
  {
   "cell_type": "code",
   "execution_count": 21,
   "id": "a9501dd7",
   "metadata": {},
   "outputs": [
    {
     "name": "stdout",
     "output_type": "stream",
     "text": [
      "Data Types :  <U11\n"
     ]
    }
   ],
   "source": [
    "var9= np.array([\"Brijesh\" , \"Singh\" ,\"Sahasi\",1,2,3,4])\n",
    "print(\"Data Types : \" , var9.dtype)"
   ]
  },
  {
   "cell_type": "code",
   "execution_count": 23,
   "id": "28efc281",
   "metadata": {},
   "outputs": [
    {
     "name": "stdout",
     "output_type": "stream",
     "text": [
      "Data type :  int8\n",
      "[1 2 3 4]\n"
     ]
    }
   ],
   "source": [
    "x = np.array([1,2,3,4],dtype= np.int8)\n",
    "print(\"Data type : \" , x.dtype)\n",
    "print(x)"
   ]
  },
  {
   "cell_type": "code",
   "execution_count": 25,
   "id": "2e8484fe",
   "metadata": {},
   "outputs": [
    {
     "name": "stdout",
     "output_type": "stream",
     "text": [
      "Data type :  float32\n",
      "[1. 2. 3. 4.]\n"
     ]
    }
   ],
   "source": [
    "x1 = np.array([1,2,3,4],dtype= \"f\")\n",
    "print(\"Data type : \" , x1.dtype)\n",
    "print(x1)"
   ]
  },
  {
   "cell_type": "code",
   "execution_count": 27,
   "id": "e608a50c",
   "metadata": {},
   "outputs": [
    {
     "name": "stdout",
     "output_type": "stream",
     "text": [
      "Data type :  int32\n",
      "Data type :  float32\n",
      "[1 2 3 4]\n",
      "[1. 2. 3. 4.]\n"
     ]
    }
   ],
   "source": [
    "x2 = np.array([1,2,3,4])\n",
    "new = np.float32(x2)\n",
    "print(\"Data type : \" , x2.dtype)\n",
    "print(\"Data type : \" , new.dtype)\n",
    "print(x2)\n",
    "print(new)"
   ]
  },
  {
   "cell_type": "code",
   "execution_count": 28,
   "id": "a17444ac",
   "metadata": {},
   "outputs": [
    {
     "name": "stdout",
     "output_type": "stream",
     "text": [
      "[1 2 3 4]\n",
      "[1. 2. 3. 4.]\n"
     ]
    }
   ],
   "source": [
    "x3 = np.array([1,2,3,4])\n",
    "new_1 = x3.astype(float)\n",
    "print(x3)\n",
    "print(new_1)"
   ]
  },
  {
   "cell_type": "markdown",
   "id": "724bc567",
   "metadata": {},
   "source": [
    "#  Arithmetic Operation"
   ]
  },
  {
   "cell_type": "code",
   "execution_count": 2,
   "id": "0254c1b7",
   "metadata": {},
   "outputs": [],
   "source": [
    "import numpy as np"
   ]
  },
  {
   "cell_type": "code",
   "execution_count": 3,
   "id": "b0c09973",
   "metadata": {},
   "outputs": [
    {
     "name": "stdout",
     "output_type": "stream",
     "text": [
      "[4 5 6 7]\n"
     ]
    }
   ],
   "source": [
    "var  = np.array([1,2,3,4])\n",
    "varadd = var+3\n",
    "#np.add(var,3)\n",
    "print(varadd)"
   ]
  },
  {
   "cell_type": "code",
   "execution_count": 5,
   "id": "e112d4ae",
   "metadata": {},
   "outputs": [
    {
     "name": "stdout",
     "output_type": "stream",
     "text": [
      "[2 4 6 8]\n"
     ]
    }
   ],
   "source": [
    "var1  = np.array([1,2,3,4])\n",
    "var2  = np.array([1,2,3,4])\n",
    "varadd = var1+var2\n",
    "print(varadd)"
   ]
  },
  {
   "cell_type": "code",
   "execution_count": 14,
   "id": "857d5793",
   "metadata": {},
   "outputs": [
    {
     "name": "stdout",
     "output_type": "stream",
     "text": [
      "[2 4 6 8]\n"
     ]
    }
   ],
   "source": [
    "var1  = np.array([1,2,3,4])\n",
    "var2  = np.array([1,2,3,4])\n",
    "varadd = np.add(var1,var2)\n",
    "print(varadd)"
   ]
  },
  {
   "cell_type": "code",
   "execution_count": null,
   "id": "8ee7a480",
   "metadata": {},
   "outputs": [],
   "source": [
    "var  = np.array([1,2,3,4])\n",
    "varadd = var-3\n",
    "#np.subtract(var , 3)\n",
    "print(varadd)"
   ]
  },
  {
   "cell_type": "code",
   "execution_count": 9,
   "id": "a8b06ec6",
   "metadata": {},
   "outputs": [
    {
     "name": "stdout",
     "output_type": "stream",
     "text": [
      "[ 3  6  9 12]\n"
     ]
    }
   ],
   "source": [
    "var  = np.array([1,2,3,4])\n",
    "varadd = var*3\n",
    "print(varadd)"
   ]
  },
  {
   "cell_type": "code",
   "execution_count": 10,
   "id": "0b94c437",
   "metadata": {},
   "outputs": [
    {
     "name": "stdout",
     "output_type": "stream",
     "text": [
      "[0.33333333 0.66666667 1.         1.33333333]\n"
     ]
    }
   ],
   "source": [
    "var  = np.array([1,2,3,4])\n",
    "varadd = var/3\n",
    "print(varadd)"
   ]
  },
  {
   "cell_type": "code",
   "execution_count": 12,
   "id": "1af1ee09",
   "metadata": {},
   "outputs": [
    {
     "name": "stdout",
     "output_type": "stream",
     "text": [
      "[1 2 0 1]\n"
     ]
    }
   ],
   "source": [
    "var  = np.array([1,2,3,4])\n",
    "varadd = var%3\n",
    "print(varadd)"
   ]
  },
  {
   "cell_type": "code",
   "execution_count": 17,
   "id": "e26fbead",
   "metadata": {},
   "outputs": [
    {
     "name": "stdout",
     "output_type": "stream",
     "text": [
      "[1 0 0 0]\n"
     ]
    }
   ],
   "source": [
    "var  = np.array([1,2,3,4])\n",
    "varadd = np.reciprocal(var)\n",
    "print(varadd)"
   ]
  },
  {
   "cell_type": "markdown",
   "id": "259ca2c9",
   "metadata": {},
   "source": [
    "# All Numpy arithmetic operation"
   ]
  },
  {
   "cell_type": "markdown",
   "id": "79455ec7",
   "metadata": {},
   "source": [
    " a+b          np.add(a,b)                                                                                                  \n",
    " a-b          np.subtract(a,b)                                                                                              \n",
    " a*b          np.multiply(a,b)                                                                                               \n",
    " a/b          np.divide(a,b)                                                                                                 \n",
    " a%b          np.mode(a,b)                                                                                                    \n",
    " a**b         np.power(a,b)                                                                                                   \n",
    " 1/a          np.reciprocal(a)                                                                                                "
   ]
  },
  {
   "cell_type": "markdown",
   "id": "734c6486",
   "metadata": {},
   "source": [
    "# 2D array"
   ]
  },
  {
   "cell_type": "code",
   "execution_count": 16,
   "id": "ffddf117",
   "metadata": {},
   "outputs": [
    {
     "name": "stdout",
     "output_type": "stream",
     "text": [
      "[[1 2 3 4]\n",
      " [1 2 3 4]]\n",
      "\n",
      "[[1 2 3 4]\n",
      " [1 2 3 4]]\n",
      "\n",
      "[[2 4 6 8]\n",
      " [2 4 6 8]]\n"
     ]
    }
   ],
   "source": [
    "var21  = np.array([[1,2,3,4],[1,2,3,4]])\n",
    "var22  = np.array([[1,2,3,4],[1,2,3,4]])\n",
    "print(var21)\n",
    "print()\n",
    "print(var22)\n",
    "print()\n",
    "\n",
    "varadd = np.add(var21,var22)\n",
    "print(varadd)"
   ]
  },
  {
   "cell_type": "markdown",
   "id": "443b651e",
   "metadata": {},
   "source": [
    "# Arithmetic Function"
   ]
  },
  {
   "cell_type": "markdown",
   "id": "a85ce218",
   "metadata": {},
   "source": [
    "np.min(x)                                                                                                                  \n",
    "np.max(x)                                                                                                                   \n",
    "np.argmin(x)                                                                                                                 \n",
    "np.sqrt(x)                                                                                                                   \n",
    "np.sin(x)                                                                                                                    \n",
    "np.cos(x)                                                                                                                     \n",
    "np.cumsum(x)                                                                                                                  "
   ]
  },
  {
   "cell_type": "code",
   "execution_count": 22,
   "id": "7ce4526c",
   "metadata": {},
   "outputs": [
    {
     "name": "stdout",
     "output_type": "stream",
     "text": [
      "min 1 index 0\n",
      "max 45 index 7\n",
      "sqrt [1.         1.41421356 2.         2.23606798 2.44948974 2.82842712\n",
      " 3.         6.70820393]\n"
     ]
    }
   ],
   "source": [
    "var3 = np.array([1,2,4,5,6,8,9,45])\n",
    "print(\"min\" , np.min(var3), \"index\" , np.argmin(var3))\n",
    "print(\"max\" , np.max(var3) , \"index\" , np.argmax(var3))\n",
    "print(\"sqrt\" , np.sqrt(var3))"
   ]
  },
  {
   "cell_type": "code",
   "execution_count": 21,
   "id": "4fdc3884",
   "metadata": {},
   "outputs": [
    {
     "name": "stdout",
     "output_type": "stream",
     "text": [
      "[2 1 3]\n",
      "[1 4]\n"
     ]
    }
   ],
   "source": [
    "var4 = np.array([[2,1,3],[9,5,4]])\n",
    "print(np.min(var4 , axis = 0)) # axis 0 for the coloumn wise 1 for row wise min \n",
    "print(np.min(var4 , axis = 1)) # row wise min"
   ]
  },
  {
   "cell_type": "code",
   "execution_count": 24,
   "id": "465f8514",
   "metadata": {},
   "outputs": [
    {
     "name": "stdout",
     "output_type": "stream",
     "text": [
      "[ 0.84147098  0.90929743  0.14112001 -0.7568025 ]\n",
      "[ 0.54030231 -0.41614684 -0.9899925  -0.65364362]\n",
      "[ 1  3  6 10]\n"
     ]
    }
   ],
   "source": [
    "var4 = np.array([1,2,3,4])\n",
    "print(np.sin(var4))\n",
    "print(np.cos(var4))\n",
    "print(np.cumsum(var4))"
   ]
  },
  {
   "cell_type": "markdown",
   "id": "8990cbe4",
   "metadata": {},
   "source": [
    "# Shape\n"
   ]
  },
  {
   "cell_type": "code",
   "execution_count": 3,
   "id": "f4c60a3b",
   "metadata": {},
   "outputs": [
    {
     "name": "stdout",
     "output_type": "stream",
     "text": [
      "[[1 2 3 4]\n",
      " [1 2 3 4]]\n",
      "\n",
      "(2, 4)\n"
     ]
    }
   ],
   "source": [
    "import numpy as np\n",
    "var5 = np.array([[1,2,3,4] , [1,2,3,4]])\n",
    "print(var5)\n",
    "print()\n",
    "print(var5.shape)"
   ]
  },
  {
   "cell_type": "code",
   "execution_count": 9,
   "id": "3cbcfa47",
   "metadata": {},
   "outputs": [
    {
     "name": "stdout",
     "output_type": "stream",
     "text": [
      "[[[[1 2 3 4]]]]\n",
      "\n",
      "(1, 1, 1, 4)\n",
      "4\n"
     ]
    }
   ],
   "source": [
    "var6 = np.array([1,2,3,4], ndmin=4)\n",
    "print(var6)\n",
    "print()\n",
    "print(var6.shape)\n",
    "print(var6.ndim)"
   ]
  },
  {
   "cell_type": "markdown",
   "id": "352b8a69",
   "metadata": {},
   "source": [
    "# Reshape\n"
   ]
  },
  {
   "cell_type": "code",
   "execution_count": 7,
   "id": "1d2927ac",
   "metadata": {},
   "outputs": [
    {
     "name": "stdout",
     "output_type": "stream",
     "text": [
      "[1 2 3 4 5 6]\n",
      "1\n",
      "\n",
      "\n",
      "[[1 2]\n",
      " [3 4]\n",
      " [5 6]]\n",
      "2\n"
     ]
    }
   ],
   "source": [
    "var7 = np.array([1,2,3,4,5,6])\n",
    "print(var7)\n",
    "print(var7.ndim)\n",
    "print()\n",
    "x = var7.reshape(3,2)\n",
    "print()\n",
    "print(x)\n",
    "print(x.ndim)\n"
   ]
  },
  {
   "cell_type": "code",
   "execution_count": 14,
   "id": "c8903211",
   "metadata": {},
   "outputs": [
    {
     "name": "stdout",
     "output_type": "stream",
     "text": [
      "[ 1  2  3  4  5  6  7  8  9 10 11 12]\n",
      "1\n",
      "\n",
      "\n",
      "[[[ 1  2]\n",
      "  [ 3  4]\n",
      "  [ 5  6]]\n",
      "\n",
      " [[ 7  8]\n",
      "  [ 9 10]\n",
      "  [11 12]]]\n",
      "3\n",
      "[ 1  2  3  4  5  6  7  8  9 10 11 12]\n",
      "1\n",
      "[[ 1  2  3  4  5  6]\n",
      " [ 7  8  9 10 11 12]]\n"
     ]
    }
   ],
   "source": [
    "var8 = np.array([1,2,3,4,5,6,7,8,9,10,11,12])\n",
    "print(var8)\n",
    "print(var8.ndim)\n",
    "print()\n",
    "x1 = var8.reshape(2,3,2)\n",
    "print()\n",
    "print(x1)\n",
    "print(x1.ndim)\n",
    "\n",
    "one = x1.reshape(-1) # convert it into the one Dimension array \n",
    "print(one)\n",
    "print(one.ndim)\n",
    " \n",
    "two = x1.reshape(2,6)\n",
    "print(two)"
   ]
  },
  {
   "cell_type": "markdown",
   "id": "4a8f1da6",
   "metadata": {},
   "source": [
    "# Broadcasting"
   ]
  },
  {
   "cell_type": "code",
   "execution_count": 19,
   "id": "a1605e81",
   "metadata": {},
   "outputs": [
    {
     "name": "stdout",
     "output_type": "stream",
     "text": [
      "(3,)\n",
      "[1 2 3]\n",
      "\n",
      "(3, 1)\n",
      "[[1]\n",
      " [2]\n",
      " [3]]\n",
      "\n",
      "[[2 3 4]\n",
      " [3 4 5]\n",
      " [4 5 6]]\n"
     ]
    }
   ],
   "source": [
    "var9 = np.array([1,2,3])\n",
    "print(var9.shape)\n",
    "print(var9)\n",
    "print()\n",
    "var10 = np.array([[1],[2],[3]])\n",
    "print(var10.shape)\n",
    "print(var10)\n",
    "print()\n",
    "print(var9 + var10)"
   ]
  },
  {
   "cell_type": "code",
   "execution_count": 3,
   "id": "8e97c5b9",
   "metadata": {},
   "outputs": [
    {
     "name": "stdout",
     "output_type": "stream",
     "text": [
      "(2, 1)\n",
      "\n",
      "(2, 3)\n",
      "\n",
      "[[2 3 4]\n",
      " [3 4 5]]\n"
     ]
    }
   ],
   "source": [
    "x = np.array([[1],[2]])\n",
    "print(x.shape)\n",
    "print()\n",
    "y = np.array([[1,2,3] , [1,2,3]])\n",
    "\n",
    "print(y.shape)\n",
    "print()\n",
    "print(x+y)"
   ]
  },
  {
   "cell_type": "markdown",
   "id": "d4be46e9",
   "metadata": {},
   "source": [
    "# Indexing"
   ]
  },
  {
   "cell_type": "code",
   "execution_count": 5,
   "id": "c3ac4184",
   "metadata": {},
   "outputs": [
    {
     "name": "stdout",
     "output_type": "stream",
     "text": [
      "4\n",
      "2\n"
     ]
    }
   ],
   "source": [
    "x1 = np.array([1,2,3,4])\n",
    "# indexing     0 ,1,2,3\n",
    "# indexing     -4 ,-3,-2,-1\n",
    "print(x1[3])\n",
    "print(x1[-3])"
   ]
  },
  {
   "cell_type": "code",
   "execution_count": 9,
   "id": "4c59318c",
   "metadata": {},
   "outputs": [
    {
     "name": "stdout",
     "output_type": "stream",
     "text": [
      "3\n",
      "3\n"
     ]
    }
   ],
   "source": [
    "x2 = np.array([[1,2,3],[4,5,6]])\n",
    "print(x2[0][2])  # or \n",
    "print(x2[0,2])  #both are same"
   ]
  },
  {
   "cell_type": "code",
   "execution_count": 13,
   "id": "a620b4ec",
   "metadata": {},
   "outputs": [
    {
     "name": "stdout",
     "output_type": "stream",
     "text": [
      "[[[1 2]\n",
      "  [3 4]]]\n",
      "3\n",
      "\n",
      "4\n"
     ]
    }
   ],
   "source": [
    "x3 = np.array([[[1,2],[3,4]]])\n",
    "print(x3)\n",
    "print(x3.ndim)\n",
    "print()\n",
    "print(x3[0,1,1])"
   ]
  },
  {
   "cell_type": "markdown",
   "id": "797f2318",
   "metadata": {},
   "source": [
    "# Slicing"
   ]
  },
  {
   "cell_type": "markdown",
   "id": "f0ec4b3b",
   "metadata": {},
   "source": [
    "x[start : end] "
   ]
  },
  {
   "cell_type": "code",
   "execution_count": 20,
   "id": "15c63800",
   "metadata": {},
   "outputs": [
    {
     "name": "stdout",
     "output_type": "stream",
     "text": [
      "[1 2 3 4 5 6 7]\n",
      "\n",
      "2 to 5 : [2 3 4 5]\n",
      "2 to end : [3 4 5 6 7]\n",
      "start to 5 [1 2 3 4 5]\n",
      "Stop : [2 4]\n"
     ]
    }
   ],
   "source": [
    "x4 = np.array([1,2,3,4,5,6,7])\n",
    "print(x4)\n",
    "print()\n",
    "print(\"2 to 5 :\" , x4[1:5])\n",
    "print(\"2 to end :\" , x4[2:])\n",
    "print(\"start to 5\" , x4[:5])\n",
    "\n",
    "print(\"Stop :\" , x4[1:5:2])"
   ]
  },
  {
   "cell_type": "code",
   "execution_count": 23,
   "id": "edab40e3",
   "metadata": {},
   "outputs": [
    {
     "name": "stdout",
     "output_type": "stream",
     "text": [
      "[[ 1  2  3  3  4  5]\n",
      " [ 6  7  8  9 10 11]\n",
      " [11 12 13 14 15 16]]\n",
      "2\n",
      "\n",
      "7 to 11 [ 7  8  9 10 11]\n"
     ]
    }
   ],
   "source": [
    "x5 = np.array([[1,2,3,3,4,5],[6, 7,8,9,10,11],[11,12,13,14,15,16]])\n",
    "print(x5)\n",
    "print(x5.ndim)\n",
    "print()\n",
    "print(\"7 to 11\" , x5[1 , 1:])"
   ]
  },
  {
   "cell_type": "markdown",
   "id": "609219c6",
   "metadata": {},
   "source": [
    "<center><h1>iteration in numpy</h1></center>"
   ]
  },
  {
   "cell_type": "code",
   "execution_count": 25,
   "id": "d130705f",
   "metadata": {},
   "outputs": [
    {
     "name": "stdout",
     "output_type": "stream",
     "text": [
      "[1 2 3 4 5 6 7 8]\n",
      "\n",
      "1\n",
      "2\n",
      "3\n",
      "4\n",
      "5\n",
      "6\n",
      "7\n",
      "8\n"
     ]
    }
   ],
   "source": [
    "x6  = np.array([1,2,3,4,5,6,7,8])\n",
    "print(x6)\n",
    "print()\n",
    "for i in x6:\n",
    "    print(i)"
   ]
  },
  {
   "cell_type": "code",
   "execution_count": 28,
   "id": "39a2a1f9",
   "metadata": {},
   "outputs": [
    {
     "name": "stdout",
     "output_type": "stream",
     "text": [
      "[[1 2 3 4]\n",
      " [1 2 3 4]]\n",
      "\n",
      "1\n",
      "2\n",
      "3\n",
      "4\n",
      "1\n",
      "2\n",
      "3\n",
      "4\n"
     ]
    }
   ],
   "source": [
    "x7 = np.array([[1,2,3,4],[1,2,3,4]])\n",
    "print(x7)\n",
    "\n",
    "print()\n",
    "\n",
    "for i in x7:\n",
    "    for j in i:\n",
    "        print(j)"
   ]
  },
  {
   "cell_type": "code",
   "execution_count": 30,
   "id": "d8c1f346",
   "metadata": {},
   "outputs": [
    {
     "name": "stdout",
     "output_type": "stream",
     "text": [
      "[[[1 2 3 4]\n",
      "  [1 2 3 4]]]\n",
      "3\n",
      "1\n",
      "2\n",
      "3\n",
      "4\n",
      "1\n",
      "2\n",
      "3\n",
      "4\n"
     ]
    }
   ],
   "source": [
    "x8 = np.array([[[1,2,3,4],[1,2,3,4]]])\n",
    "print(x8)\n",
    "print(x8.ndim)\n",
    "\n",
    "for i in x8:\n",
    "    for j in i:\n",
    "        for k in j:\n",
    "            print(k)"
   ]
  },
  {
   "cell_type": "code",
   "execution_count": 37,
   "id": "db52f486",
   "metadata": {},
   "outputs": [
    {
     "name": "stdout",
     "output_type": "stream",
     "text": [
      "[[[1 2 3 4]\n",
      "  [1 2 3 4]]]\n",
      "3\n",
      "1\n",
      "2\n",
      "3\n",
      "4\n",
      "1\n",
      "2\n",
      "3\n",
      "4\n",
      "b'1'\n",
      "b'2'\n",
      "b'3'\n",
      "b'4'\n",
      "b'1'\n",
      "b'2'\n",
      "b'3'\n",
      "b'4'\n"
     ]
    }
   ],
   "source": [
    "x8 = np.array([[[1,2,3,4],[1,2,3,4]]])\n",
    "print(x8)\n",
    "print(x8.ndim)\n",
    "\n",
    "for i in np.nditer(x8):\n",
    "    print(i)\n",
    "\n",
    "# change the data type\n",
    "for i in np.nditer(x8 , flags=['buffered'], op_dtypes=['S']):\n",
    "    print(i)"
   ]
  },
  {
   "cell_type": "code",
   "execution_count": 39,
   "id": "70acd162",
   "metadata": {},
   "outputs": [
    {
     "name": "stdout",
     "output_type": "stream",
     "text": [
      "[[[1 2 3 4]\n",
      "  [1 2 3 4]]]\n",
      "3\n",
      "(0, 0, 0) 1\n",
      "(0, 0, 1) 2\n",
      "(0, 0, 2) 3\n",
      "(0, 0, 3) 4\n",
      "(0, 1, 0) 1\n",
      "(0, 1, 1) 2\n",
      "(0, 1, 2) 3\n",
      "(0, 1, 3) 4\n"
     ]
    }
   ],
   "source": [
    "x8 = np.array([[[1,2,3,4],[1,2,3,4]]])\n",
    "print(x8)\n",
    "print(x8.ndim)\n",
    "\n",
    "for i,d in np.ndenumerate(x8):\n",
    "    print(i,d)"
   ]
  },
  {
   "cell_type": "markdown",
   "id": "3cf9d606",
   "metadata": {},
   "source": [
    "<center><h1 style=\"color:green\">Copy vs view </h1></center>"
   ]
  },
  {
   "cell_type": "code",
   "execution_count": 45,
   "id": "56b9b3de",
   "metadata": {},
   "outputs": [
    {
     "name": "stdout",
     "output_type": "stream",
     "text": [
      "var :  [ 1 40  3  4]\n",
      "co  :  [1 2 3 4]\n"
     ]
    }
   ],
   "source": [
    "var = np.array([1,2,3,4])\n",
    "\n",
    "co = var.copy()  # copy the var variable to the co variable\n",
    "\n",
    "var[1] = 40\n",
    "print(\"var : \" , var )\n",
    "print(\"co  : \" , co)"
   ]
  },
  {
   "cell_type": "code",
   "execution_count": 46,
   "id": "4827fe16",
   "metadata": {},
   "outputs": [
    {
     "name": "stdout",
     "output_type": "stream",
     "text": [
      "var :  [ 1 40  3  4]\n",
      "view :  [ 1 40  3  4]\n"
     ]
    }
   ],
   "source": [
    "x = np.array([1,2,3,4])\n",
    "\n",
    "vi = x.view()\n",
    "x[1] = 40\n",
    "print(\"var : \", x)\n",
    "print(\"view : \", vi)"
   ]
  },
  {
   "cell_type": "markdown",
   "id": "ed343141",
   "metadata": {},
   "source": [
    "<h1>copy</h1>\n",
    "<ul>\n",
    "    <li>the copy owns the data</li>\n",
    "     <li>the copy of an array is a new array</li>\n",
    "     <li>the change made in copy data does not reflect in the original array</li>\n",
    "  </ul>\n",
    "  \n",
    " <h1>View</h1>\n",
    "<ul>\n",
    "    <li>the view does not own the data</li>\n",
    "     <li>A view of the original array</li>\n",
    "     <li>any change made to the view will affect the  original array</li>\n",
    "  </ul>"
   ]
  },
  {
   "cell_type": "markdown",
   "id": "7eab6b6a",
   "metadata": {},
   "source": [
    "# Join Array"
   ]
  },
  {
   "cell_type": "code",
   "execution_count": 5,
   "id": "b5cb4934",
   "metadata": {},
   "outputs": [
    {
     "name": "stdout",
     "output_type": "stream",
     "text": [
      "[ 1  2  3  4  9  8  7  6 10 12]\n"
     ]
    }
   ],
   "source": [
    "var = np.array([1,2,3,4])\n",
    "var1 = np.array([9 ,8,7,6])\n",
    "var2 = np.array([10,12])\n",
    "ar = np.concatenate((var,var1,var2))\n",
    "print(ar)"
   ]
  },
  {
   "cell_type": "code",
   "execution_count": 9,
   "id": "ac6ff947",
   "metadata": {},
   "outputs": [
    {
     "name": "stdout",
     "output_type": "stream",
     "text": [
      "[[1 2 9 8]\n",
      " [3 4 7 6]]\n"
     ]
    }
   ],
   "source": [
    "var3 = np.array([[1,2],[3,4]])\n",
    "var4 = np.array([[9,8],[7,6]])\n",
    "ar = np.concatenate((var3,var4),axis=1)  # second parameter is for axis 1 for row wise 0 for columns wise\n",
    "print(ar)"
   ]
  },
  {
   "cell_type": "code",
   "execution_count": 4,
   "id": "29b65a55",
   "metadata": {},
   "outputs": [
    {
     "name": "stdout",
     "output_type": "stream",
     "text": [
      "\n",
      "[[1 2 3 4]\n",
      " [9 8 7 6]]\n",
      "\n",
      "[[1 9]\n",
      " [2 8]\n",
      " [3 7]\n",
      " [4 6]]\n",
      "\n",
      "[1 2 3 4 9 8 7 6]\n",
      "\n",
      "[[1 2 3 4]\n",
      " [9 8 7 6]]\n",
      "\n",
      "[[[1 9]\n",
      "  [2 8]\n",
      "  [3 7]\n",
      "  [4 6]]]\n"
     ]
    }
   ],
   "source": [
    "var_1 = np.array([1,2,3,4])\n",
    "var_2= np.array([9 ,8,7,6])\n",
    "\n",
    "a_new = np.stack((var_1 , var_2) , axis =0)\n",
    "a_new1= np.stack((var_1 , var_2) , axis =1)\n",
    "print()\n",
    "print(a_new)\n",
    "print()\n",
    "print(a_new1)\n",
    "print()\n",
    "a_new2 = np.hstack((var_1,var_2))  # merge along horizontal\n",
    "print(a_new2)\n",
    "print()\n",
    "a_new3 = np.vstack((var_1,var_2))  # merge along vertices\n",
    "print(a_new3)\n",
    "print()\n",
    "a_new4 = np.dstack((var_1,var_2))  # merge along height\n",
    "print(a_new4)"
   ]
  },
  {
   "cell_type": "markdown",
   "id": "da050ac4",
   "metadata": {},
   "source": [
    "# Split Array"
   ]
  },
  {
   "cell_type": "code",
   "execution_count": 9,
   "id": "df4bf95a",
   "metadata": {},
   "outputs": [
    {
     "name": "stdout",
     "output_type": "stream",
     "text": [
      "[1 2 3 4 5 6]\n",
      "\n",
      "[array([1, 2]), array([3, 4]), array([5, 6])]\n",
      "<class 'list'>\n",
      "[1 2]\n"
     ]
    }
   ],
   "source": [
    "var = np.array([1,2,3,4,5,6])\n",
    "print(var)\n",
    "\n",
    "ar = np.array_split(var , 3)\n",
    "print()\n",
    "print(ar)\n",
    "print(type(ar))\n",
    "\n",
    "print(ar[0])\n",
    "\n"
   ]
  },
  {
   "cell_type": "code",
   "execution_count": 13,
   "id": "02e34b57",
   "metadata": {},
   "outputs": [
    {
     "name": "stdout",
     "output_type": "stream",
     "text": [
      "[[1 2]\n",
      " [3 4]\n",
      " [5 6]]\n",
      "[array([[1, 2]]), array([[3, 4]]), array([[5, 6]])]\n",
      "\n",
      "[array([[1],\n",
      "       [3],\n",
      "       [5]]), array([[2],\n",
      "       [4],\n",
      "       [6]]), array([], shape=(3, 0), dtype=int32)]\n"
     ]
    }
   ],
   "source": [
    "var1 = np.array([[1,2],[3,4],[5,6]])\n",
    "print(var1)\n",
    "ar1 = np.array_split(var1,3)\n",
    "print(ar1)\n",
    "print()\n",
    "ar2 = np.array_split(var1 , 3,axis = 1)\n",
    "print(ar2)"
   ]
  },
  {
   "cell_type": "markdown",
   "id": "778cfa37",
   "metadata": {},
   "source": [
    "# Search\n"
   ]
  },
  {
   "cell_type": "code",
   "execution_count": 16,
   "id": "5866094d",
   "metadata": {},
   "outputs": [
    {
     "name": "stdout",
     "output_type": "stream",
     "text": [
      "(array([1, 4, 6], dtype=int64),)\n",
      "\n",
      "(array([1, 3, 4, 6, 8], dtype=int64),)\n"
     ]
    }
   ],
   "source": [
    "var = np.array([1,2,3,4,2,5,2,5,6,7])\n",
    "\n",
    "x = np.where(var == 2)  # find the position of 2\n",
    "\n",
    "y = np.where(var%2==0)\n",
    "\n",
    "print(x)\n",
    "print()\n",
    "print(y)\n"
   ]
  },
  {
   "cell_type": "code",
   "execution_count": 25,
   "id": "567fafcd",
   "metadata": {},
   "outputs": [
    {
     "name": "stdout",
     "output_type": "stream",
     "text": [
      "4\n",
      "6\n",
      "[4 7 7]\n"
     ]
    }
   ],
   "source": [
    "var1 = np.array([1,2,3,4,6,7,8])\n",
    "\n",
    "x1 = np.searchsorted( var1 , 5)  # where we place the 5 in var1 \n",
    "\n",
    "x2 = np.searchsorted( var1 , 7, side=\"right\") # place from the right side\n",
    "\n",
    "x3 = np.searchsorted( var1 , [5,8,18], side = \"right\")\n",
    "\n",
    "print(x1)\n",
    "\n",
    "print(x2)\n",
    "\n",
    "print(x3)"
   ]
  },
  {
   "cell_type": "markdown",
   "id": "ff5f0732",
   "metadata": {},
   "source": [
    "# sort"
   ]
  },
  {
   "cell_type": "code",
   "execution_count": 27,
   "id": "393dde00",
   "metadata": {},
   "outputs": [
    {
     "name": "stdout",
     "output_type": "stream",
     "text": [
      "[ 1  2  4  4  6  8 13 23 75 86]\n"
     ]
    }
   ],
   "source": [
    "var3 = np.array([4,6,8,86,23,75,13,4,2,1])\n",
    "\n",
    "print(np.sort(var3))"
   ]
  },
  {
   "cell_type": "code",
   "execution_count": 29,
   "id": "47bd7994",
   "metadata": {},
   "outputs": [
    {
     "name": "stdout",
     "output_type": "stream",
     "text": [
      "[[ 4  6  8]\n",
      " [23 75 86]\n",
      " [ 2  4 13]]\n"
     ]
    }
   ],
   "source": [
    "var4 = np.array([[4,6,8],[86,23,75],[13,4,2]])\n",
    "print(np.sort(var4))"
   ]
  },
  {
   "cell_type": "markdown",
   "id": "d2edd86a",
   "metadata": {},
   "source": [
    "# Filter\n"
   ]
  },
  {
   "cell_type": "code",
   "execution_count": 2,
   "id": "a11c6864",
   "metadata": {},
   "outputs": [
    {
     "name": "stdout",
     "output_type": "stream",
     "text": [
      "['a' 'f']\n"
     ]
    }
   ],
   "source": [
    "import numpy as np\n",
    "var5 = np.array([\"a\",\"s\",\"d\",\"f\"])\n",
    "\n",
    "f = [True , False,False , True]\n",
    "\n",
    "new_a = var5[f]\n",
    "print(new_a)"
   ]
  },
  {
   "cell_type": "markdown",
   "id": "d6728ca7",
   "metadata": {},
   "source": [
    "# Function in numpy"
   ]
  },
  {
   "cell_type": "markdown",
   "id": "9562c23f",
   "metadata": {},
   "source": [
    "## Shuffle"
   ]
  },
  {
   "cell_type": "code",
   "execution_count": 12,
   "id": "857fe042",
   "metadata": {},
   "outputs": [
    {
     "name": "stdout",
     "output_type": "stream",
     "text": [
      "[6 1 4 5 2 3]\n"
     ]
    }
   ],
   "source": [
    "var = np.array([1,2,3,4,5,6])\n",
    "np.random.shuffle(var)\n",
    "print(var)"
   ]
  },
  {
   "cell_type": "markdown",
   "id": "e17fe2eb",
   "metadata": {},
   "source": [
    "## Unique"
   ]
  },
  {
   "cell_type": "code",
   "execution_count": 17,
   "id": "489da06a",
   "metadata": {},
   "outputs": [
    {
     "name": "stdout",
     "output_type": "stream",
     "text": [
      "[1 2 3 4 5]\n",
      "(array([1, 2, 3, 4, 5]), array([ 0,  1,  4, 10,  5], dtype=int64))\n",
      "(array([1, 2, 3, 4, 5]), array([ 0,  1,  4, 10,  5], dtype=int64), array([2, 3, 5, 1, 3], dtype=int64))\n"
     ]
    }
   ],
   "source": [
    "var1 = np.array([1,2,1,2,3,5,3,3,3,3,4,5,5,2])\n",
    "\n",
    "x=np.unique(var1)\n",
    "# return with the index\n",
    "y = np.unique(var1, return_index=True)\n",
    "# return with index and counting\n",
    "z = np.unique(var1, return_index=True, return_counts=True)\n",
    "print(x)\n",
    "print(y)\n",
    "print(z)\n"
   ]
  },
  {
   "cell_type": "markdown",
   "id": "348abbce",
   "metadata": {},
   "source": [
    "## Resize"
   ]
  },
  {
   "cell_type": "markdown",
   "id": "3408696f",
   "metadata": {},
   "source": [
    "var2 = np.array([1,2,3,4,5,6])\n",
    "t= np.resize(var2,(2,3))\n",
    "print(t)"
   ]
  },
  {
   "cell_type": "markdown",
   "id": "2c91f15f",
   "metadata": {},
   "source": [
    "## Flatten \n"
   ]
  },
  {
   "cell_type": "code",
   "execution_count": 25,
   "id": "558f7152",
   "metadata": {},
   "outputs": [
    {
     "name": "stdout",
     "output_type": "stream",
     "text": [
      "flatten :  [1 4 2 5 3 6]\n",
      "revel :  [1 4 2 5 3 6]\n"
     ]
    }
   ],
   "source": [
    "var2 = np.array([1,2,3,4,5,6])\n",
    "t= np.resize(var2,(2,3))\n",
    "print(\"flatten : \",t.flatten(order=\"F\"))  # convert 2D array to 1D array\n",
    "print(\"revel : \", np.ravel(t,order=\"F\"))"
   ]
  },
  {
   "cell_type": "markdown",
   "id": "7a6b13a8",
   "metadata": {},
   "source": [
    "# Insert "
   ]
  },
  {
   "cell_type": "code",
   "execution_count": 35,
   "id": "48e0ec69",
   "metadata": {},
   "outputs": [
    {
     "name": "stdout",
     "output_type": "stream",
     "text": [
      "[1 2 3 4]\n",
      "[ 1  2 60  3  4 60]\n",
      "[ 1  2  3 40  4]\n",
      "[1 2 3 4]\n",
      "[1 2 6 3 4 6]\n",
      "[1.  2.  3.  4.  6.5]\n"
     ]
    }
   ],
   "source": [
    "var  = np.array([1,2,3,4])\n",
    "\n",
    "print(var)\n",
    "v = np.insert(var , 3 , 40)   #first is array name second is position and third is the value\n",
    "v1 = np.insert(var, (2,4) , 60)  \n",
    "print(v1)\n",
    "print(v)\n",
    "print(var)\n",
    "v2 = np.insert(var, (2,4) , 6.5)  \n",
    "print(v2)\n",
    "v3 = np.append(var, 6.5)\n",
    "print(v3)"
   ]
  },
  {
   "cell_type": "code",
   "execution_count": 42,
   "id": "ef5f38c6",
   "metadata": {},
   "outputs": [
    {
     "name": "stdout",
     "output_type": "stream",
     "text": [
      "[[ 1  2  3]\n",
      " [ 1  2  3]\n",
      " [22 22 22]]\n",
      "[[ 1  2 22  3]\n",
      " [ 1  2 22  3]]\n",
      "[[ 1  2 22  3]\n",
      " [ 1  2 23  3]]\n",
      "[[ 1  2  3]\n",
      " [ 1  2  3]\n",
      " [22 23 24]]\n",
      "[[1 2 3]\n",
      " [1 2 3]\n",
      " [3 3 3]]\n"
     ]
    }
   ],
   "source": [
    "var1 = np.array([[1,2,3],[1,2,3]])\n",
    "v1 = np.insert(var1,2,22, axis=0)\n",
    "print(v1)\n",
    "v1 = np.insert(var1,2,22, axis=1)\n",
    "print(v1)\n",
    "v1 = np.insert(var1,2,[22,23], axis=1)\n",
    "print(v1)\n",
    "v1 = np.insert(var1,2,[22,23,24], axis=0)\n",
    "print(v1)\n",
    "\n",
    "v2 = np.append(var1,[[3,3,3]], axis=0)\n",
    "print(v2)\n"
   ]
  },
  {
   "cell_type": "markdown",
   "id": "1f5d4bf5",
   "metadata": {},
   "source": [
    "# Delete"
   ]
  },
  {
   "cell_type": "code",
   "execution_count": 3,
   "id": "c1bd6ffd",
   "metadata": {},
   "outputs": [
    {
     "name": "stdout",
     "output_type": "stream",
     "text": [
      "[1 2 3 4]\n",
      "[1 2 4]\n"
     ]
    }
   ],
   "source": [
    "var1 = np.array([1,2,3,4])\n",
    "print(var1)\n",
    "d = np.delete(var1,2) # 2 is the index value\n",
    "print(d)"
   ]
  },
  {
   "cell_type": "markdown",
   "id": "c3f5e22e",
   "metadata": {},
   "source": [
    "# Matrix "
   ]
  },
  {
   "cell_type": "code",
   "execution_count": 9,
   "id": "d60f790d",
   "metadata": {},
   "outputs": [
    {
     "name": "stdout",
     "output_type": "stream",
     "text": [
      "[[1 2]\n",
      " [1 2]]\n",
      "<class 'numpy.matrix'>\n",
      "\n",
      "[[3 6]\n",
      " [3 6]]\n",
      "\n",
      "[[3 6]\n",
      " [3 6]]\n"
     ]
    }
   ],
   "source": [
    "var = np.matrix([[1,2],[1,2]])\n",
    "var2 = np.matrix([[1,2],[1,2]])\n",
    "\n",
    "print(var)\n",
    "print(type(var))\n",
    "print()\n",
    "print(var* var2)\n",
    "print()\n",
    "print(var.dot(var2))"
   ]
  },
  {
   "cell_type": "code",
   "execution_count": 11,
   "id": "b87c8a89",
   "metadata": {},
   "outputs": [
    {
     "name": "stdout",
     "output_type": "stream",
     "text": [
      "[[1 2 3]\n",
      " [1 2 3]]\n",
      "<class 'numpy.ndarray'>\n",
      "\n",
      "[[2 4 6]\n",
      " [2 4 6]]\n",
      "\n",
      "[[1 4 9]\n",
      " [1 4 9]]\n",
      "\n"
     ]
    }
   ],
   "source": [
    "var1 = np.array([[1,2,3],[1,2,3]])\n",
    "\n",
    "print(var1)\n",
    "print(type(var1))\n",
    "print()\n",
    "print(var1+var1)\n",
    "print()\n",
    "print(var1*var1)\n",
    "print()"
   ]
  },
  {
   "cell_type": "markdown",
   "id": "dac6be62",
   "metadata": {},
   "source": [
    "# Function in numpy \n",
    " ### 1. Transpose \n",
    " ### 2. swapaxes\n",
    " ### 3. Inverse\n",
    " ### 4 . Power\n",
    " ### 5. Determinate"
   ]
  },
  {
   "cell_type": "code",
   "execution_count": 20,
   "id": "e9b4b1fb",
   "metadata": {},
   "outputs": [
    {
     "name": "stdout",
     "output_type": "stream",
     "text": [
      "[[1 2 3]\n",
      " [4 5 6]]\n",
      "\n",
      "[[1 4]\n",
      " [2 5]\n",
      " [3 6]]\n",
      "\n",
      "[[1 4]\n",
      " [2 5]\n",
      " [3 6]]\n",
      "\n",
      "[[1 4]\n",
      " [2 5]\n",
      " [3 6]]\n"
     ]
    }
   ],
   "source": [
    "var3 = np.matrix([[1,2,3],[4,5,6]])\n",
    "print(var3)\n",
    "print()\n",
    "print(np.transpose(var3))\n",
    "print()  # alternate for the  transpose \n",
    "print(var3.T)\n",
    "# swapaxes \n",
    "print()\n",
    "print(np.swapaxes(var3, 0,1))"
   ]
  },
  {
   "cell_type": "code",
   "execution_count": 22,
   "id": "dedfd577",
   "metadata": {},
   "outputs": [
    {
     "name": "stdout",
     "output_type": "stream",
     "text": [
      "[[1 2]\n",
      " [3 4]]\n",
      "\n",
      "[[1 3]\n",
      " [2 4]]\n"
     ]
    }
   ],
   "source": [
    "var2 = np.matrix([[1,2],[3,4]])\n",
    "print(var2)\n",
    "print()\n",
    "print(np.swapaxes(var2,0,1))"
   ]
  },
  {
   "cell_type": "code",
   "execution_count": 25,
   "id": "a1359292",
   "metadata": {},
   "outputs": [
    {
     "name": "stdout",
     "output_type": "stream",
     "text": [
      "[[1 2]\n",
      " [3 4]]\n",
      "\n",
      "[[-2.   1. ]\n",
      " [ 1.5 -0.5]]\n"
     ]
    }
   ],
   "source": [
    "var2 = np.matrix([[1,2],[3,4]])\n",
    "print(var2)\n",
    "print()\n",
    "print(np.linalg.inv(var2))"
   ]
  },
  {
   "cell_type": "code",
   "execution_count": 30,
   "id": "ecde5cbd",
   "metadata": {},
   "outputs": [
    {
     "name": "stdout",
     "output_type": "stream",
     "text": [
      "[[1 2]\n",
      " [3 4]]\n",
      "\n",
      "[[ 7 10]\n",
      " [15 22]]\n",
      "\n",
      "[[1 0]\n",
      " [0 1]]\n",
      "\n",
      "[[ 5.5  -2.5 ]\n",
      " [-3.75  1.75]]\n"
     ]
    }
   ],
   "source": [
    "var4 = np.matrix([[1,2],[3,4]])\n",
    "print(var4)\n",
    "print()\n",
    "\n",
    "print(np.linalg.matrix_power(var4,2))\n",
    "print()\n",
    "\n",
    "print(np.linalg.matrix_power(var4,0))\n",
    "print()\n",
    "\n",
    "print(np.linalg.matrix_power(var4,-2))"
   ]
  },
  {
   "cell_type": "code",
   "execution_count": 34,
   "id": "331ed797",
   "metadata": {},
   "outputs": [
    {
     "name": "stdout",
     "output_type": "stream",
     "text": [
      "[[1 2 4]\n",
      " [3 4 5]\n",
      " [5 6 7]]\n",
      "\n",
      "-1.9999999999999978\n"
     ]
    }
   ],
   "source": [
    "var5 = np.matrix([[1,2,4],[3,4,5],[5,6,7]])\n",
    "print(var5)\n",
    "print()\n",
    "print(np.linalg.det(var5))"
   ]
  }
 ],
 "metadata": {
  "kernelspec": {
   "display_name": "Python 3 (ipykernel)",
   "language": "python",
   "name": "python3"
  },
  "language_info": {
   "codemirror_mode": {
    "name": "ipython",
    "version": 3
   },
   "file_extension": ".py",
   "mimetype": "text/x-python",
   "name": "python",
   "nbconvert_exporter": "python",
   "pygments_lexer": "ipython3",
   "version": "3.9.13"
  }
 },
 "nbformat": 4,
 "nbformat_minor": 5
}
